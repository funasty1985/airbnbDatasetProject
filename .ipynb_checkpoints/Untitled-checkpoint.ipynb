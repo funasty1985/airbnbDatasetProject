{
 "cells": [
  {
   "cell_type": "code",
   "execution_count": 185,
   "id": "1cb47c3d",
   "metadata": {},
   "outputs": [],
   "source": [
    "import numpy as np\n",
    "import pandas as pd\n",
    "import random as rd\n",
    "from sklearn.cluster import KMeans\n",
    "from matplotlib import pyplot as plt\n",
    "\n",
    "# initial setup \n",
    "pd.set_option('display.max_columns', 80) # To view all columns\n",
    "pd.set_option('display.max_rows', 100)"
   ]
  },
  {
   "cell_type": "code",
   "execution_count": 192,
   "id": "b99f363f",
   "metadata": {},
   "outputs": [
    {
     "name": "stdout",
     "output_type": "stream",
     "text": [
      "Number of data samples : 15084\n",
      "\n",
      "\n",
      "ndateset info :\n",
      "<class 'pandas.core.frame.DataFrame'>\n",
      "RangeIndex: 15084 entries, 0 to 15083\n",
      "Data columns (total 74 columns):\n",
      " #   Column                                        Non-Null Count  Dtype  \n",
      "---  ------                                        --------------  -----  \n",
      " 0   id                                            15084 non-null  int64  \n",
      " 1   listing_url                                   15084 non-null  object \n",
      " 2   scrape_id                                     15084 non-null  int64  \n",
      " 3   last_scraped                                  15084 non-null  object \n",
      " 4   name                                          15083 non-null  object \n",
      " 5   description                                   14598 non-null  object \n",
      " 6   neighborhood_overview                         9326 non-null   object \n",
      " 7   picture_url                                   15084 non-null  object \n",
      " 8   host_id                                       15084 non-null  int64  \n",
      " 9   host_url                                      15084 non-null  object \n",
      " 10  host_name                                     15077 non-null  object \n",
      " 11  host_since                                    15077 non-null  object \n",
      " 12  host_location                                 15070 non-null  object \n",
      " 13  host_about                                    8260 non-null   object \n",
      " 14  host_response_time                            8724 non-null   object \n",
      " 15  host_response_rate                            8724 non-null   object \n",
      " 16  host_acceptance_rate                          8972 non-null   object \n",
      " 17  host_is_superhost                             15077 non-null  object \n",
      " 18  host_thumbnail_url                            15077 non-null  object \n",
      " 19  host_picture_url                              15077 non-null  object \n",
      " 20  host_neighbourhood                            10736 non-null  object \n",
      " 21  host_listings_count                           15077 non-null  float64\n",
      " 22  host_total_listings_count                     15077 non-null  float64\n",
      " 23  host_verifications                            15077 non-null  object \n",
      " 24  host_has_profile_pic                          15077 non-null  object \n",
      " 25  host_identity_verified                        15077 non-null  object \n",
      " 26  neighbourhood                                 9326 non-null   object \n",
      " 27  neighbourhood_cleansed                        15084 non-null  object \n",
      " 28  neighbourhood_group_cleansed                  0 non-null      float64\n",
      " 29  latitude                                      15084 non-null  float64\n",
      " 30  longitude                                     15084 non-null  float64\n",
      " 31  property_type                                 15084 non-null  object \n",
      " 32  room_type                                     15084 non-null  object \n",
      " 33  accommodates                                  15084 non-null  int64  \n",
      " 34  bathrooms                                     0 non-null      float64\n",
      " 35  bathrooms_text                                15071 non-null  object \n",
      " 36  bedrooms                                      13945 non-null  float64\n",
      " 37  beds                                          14873 non-null  float64\n",
      " 38  amenities                                     15084 non-null  object \n",
      " 39  price                                         15084 non-null  object \n",
      " 40  minimum_nights                                15084 non-null  int64  \n",
      " 41  maximum_nights                                15084 non-null  int64  \n",
      " 42  minimum_minimum_nights                        15084 non-null  int64  \n",
      " 43  maximum_minimum_nights                        15084 non-null  int64  \n",
      " 44  minimum_maximum_nights                        15084 non-null  int64  \n",
      " 45  maximum_maximum_nights                        15084 non-null  int64  \n",
      " 46  minimum_nights_avg_ntm                        15084 non-null  float64\n",
      " 47  maximum_nights_avg_ntm                        15084 non-null  float64\n",
      " 48  calendar_updated                              0 non-null      float64\n",
      " 49  has_availability                              15084 non-null  object \n",
      " 50  availability_30                               15084 non-null  int64  \n",
      " 51  availability_60                               15084 non-null  int64  \n",
      " 52  availability_90                               15084 non-null  int64  \n",
      " 53  availability_365                              15084 non-null  int64  \n",
      " 54  calendar_last_scraped                         15084 non-null  object \n",
      " 55  number_of_reviews                             15084 non-null  int64  \n",
      " 56  number_of_reviews_ltm                         15084 non-null  int64  \n",
      " 57  number_of_reviews_l30d                        15084 non-null  int64  \n",
      " 58  first_review                                  11609 non-null  object \n",
      " 59  last_review                                   11609 non-null  object \n",
      " 60  review_scores_rating                          11609 non-null  float64\n",
      " 61  review_scores_accuracy                        11435 non-null  float64\n",
      " 62  review_scores_cleanliness                     11437 non-null  float64\n",
      " 63  review_scores_checkin                         11434 non-null  float64\n",
      " 64  review_scores_communication                   11434 non-null  float64\n",
      " 65  review_scores_location                        11433 non-null  float64\n",
      " 66  review_scores_value                           11434 non-null  float64\n",
      " 67  license                                       4370 non-null   object \n",
      " 68  instant_bookable                              15084 non-null  object \n",
      " 69  calculated_host_listings_count                15084 non-null  int64  \n",
      " 70  calculated_host_listings_count_entire_homes   15084 non-null  int64  \n",
      " 71  calculated_host_listings_count_private_rooms  15084 non-null  int64  \n",
      " 72  calculated_host_listings_count_shared_rooms   15084 non-null  int64  \n",
      " 73  reviews_per_month                             11609 non-null  float64\n",
      "dtypes: float64(19), int64(21), object(34)\n",
      "memory usage: 8.5+ MB\n",
      "None\n"
     ]
    }
   ],
   "source": [
    "# loading the dataset \n",
    "\n",
    "df = pd.read_csv('airbnb_toronto.csv')\n",
    "\n",
    "print(f'Number of data samples : {df.shape[0]}')\n",
    "print(f'\\n\\nndateset info :')\n",
    "print(df.info())"
   ]
  },
  {
   "cell_type": "code",
   "execution_count": 193,
   "id": "99e44824",
   "metadata": {},
   "outputs": [
    {
     "data": {
      "text/plain": [
       "id                                                  0\n",
       "listing_url                                         0\n",
       "scrape_id                                           0\n",
       "last_scraped                                        0\n",
       "name                                                1\n",
       "description                                       486\n",
       "neighborhood_overview                            5758\n",
       "picture_url                                         0\n",
       "host_id                                             0\n",
       "host_url                                            0\n",
       "host_name                                           7\n",
       "host_since                                          7\n",
       "host_location                                      14\n",
       "host_about                                       6824\n",
       "host_response_time                               6360\n",
       "host_response_rate                               6360\n",
       "host_acceptance_rate                             6112\n",
       "host_is_superhost                                   7\n",
       "host_thumbnail_url                                  7\n",
       "host_picture_url                                    7\n",
       "host_neighbourhood                               4348\n",
       "host_listings_count                                 7\n",
       "host_total_listings_count                           7\n",
       "host_verifications                                  7\n",
       "host_has_profile_pic                                7\n",
       "host_identity_verified                              7\n",
       "neighbourhood                                    5758\n",
       "neighbourhood_cleansed                              0\n",
       "neighbourhood_group_cleansed                    15084\n",
       "latitude                                            0\n",
       "longitude                                           0\n",
       "property_type                                       0\n",
       "room_type                                           0\n",
       "accommodates                                        0\n",
       "bathrooms                                       15084\n",
       "bathrooms_text                                     13\n",
       "bedrooms                                         1139\n",
       "beds                                              211\n",
       "amenities                                           0\n",
       "price                                               0\n",
       "minimum_nights                                      0\n",
       "maximum_nights                                      0\n",
       "minimum_minimum_nights                              0\n",
       "maximum_minimum_nights                              0\n",
       "minimum_maximum_nights                              0\n",
       "maximum_maximum_nights                              0\n",
       "minimum_nights_avg_ntm                              0\n",
       "maximum_nights_avg_ntm                              0\n",
       "calendar_updated                                15084\n",
       "has_availability                                    0\n",
       "availability_30                                     0\n",
       "availability_60                                     0\n",
       "availability_90                                     0\n",
       "availability_365                                    0\n",
       "calendar_last_scraped                               0\n",
       "number_of_reviews                                   0\n",
       "number_of_reviews_ltm                               0\n",
       "number_of_reviews_l30d                              0\n",
       "first_review                                     3475\n",
       "last_review                                      3475\n",
       "review_scores_rating                             3475\n",
       "review_scores_accuracy                           3649\n",
       "review_scores_cleanliness                        3647\n",
       "review_scores_checkin                            3650\n",
       "review_scores_communication                      3650\n",
       "review_scores_location                           3651\n",
       "review_scores_value                              3650\n",
       "license                                         10714\n",
       "instant_bookable                                    0\n",
       "calculated_host_listings_count                      0\n",
       "calculated_host_listings_count_entire_homes         0\n",
       "calculated_host_listings_count_private_rooms        0\n",
       "calculated_host_listings_count_shared_rooms         0\n",
       "reviews_per_month                                3475\n",
       "dtype: int64"
      ]
     },
     "execution_count": 193,
     "metadata": {},
     "output_type": "execute_result"
    }
   ],
   "source": [
    "# check null values\n",
    "np.sum(df.isna(), axis=0)"
   ]
  },
  {
   "cell_type": "code",
   "execution_count": 194,
   "id": "98c4be80",
   "metadata": {},
   "outputs": [
    {
     "name": "stdout",
     "output_type": "stream",
     "text": [
      "column with too much null colums :  neighbourhood_group_cleansed, bathrooms, calendar_updated\n"
     ]
    }
   ],
   "source": [
    "# drop columns more than 80% of null values\n",
    "sample_num = df.shape[0]\n",
    "factor = 0.8\n",
    "dropping_columns = []\n",
    "for ele in df.columns:\n",
    "    if np.sum(df[ele].isna()) > round(sample_num*factor):\n",
    "        dropping_columns.append(ele)\n",
    "\n",
    "print(\"column with too much null colums : \", \", \".join(dropping_columns))\n",
    "\n",
    "df = df.drop(columns=dropping_columns)"
   ]
  },
  {
   "cell_type": "code",
   "execution_count": 195,
   "id": "bb4d306d",
   "metadata": {},
   "outputs": [],
   "source": [
    "# dropping rows with less than 3% of null values\n",
    "\n",
    "less_than_three_percent_missing_values_columns = []\n",
    "for c in df.columns:\n",
    "    null_count = np.sum(df[c].isna())\n",
    "    if null_count <= round(sample_num*0.03) and null_count > 0 :\n",
    "        less_than_three_percent_missing_values_columns.append(c)\n",
    "        \n",
    "df = df.dropna(subset=less_than_three_percent_missing_values_columns)"
   ]
  },
  {
   "cell_type": "code",
   "execution_count": 196,
   "id": "cc5a6504",
   "metadata": {},
   "outputs": [],
   "source": [
    "# dropping irrelevant columns \n",
    "# ref1: https://www.kaggle.com/code/jjmewtw/airbnb-cleaning-pca-clustering-estimation\n",
    "# ref2: https://github.com/L-Lewis/Airbnb-neural-network-price-prediction/blob/master/Airbnb-price-prediction.ipynb\n",
    "# To-do explanation\n",
    "dropping_column = [\n",
    "    \"first_review\", \"last_review\", \"id\", \"host_id\", \n",
    "    \"license\",\"instant_bookable\", \"host_name\",\"listing_url\",\n",
    "    \"scrape_id\",\"last_scraped\", \"picture_url\", \"host_url\",\n",
    "    \"host_thumbnail_url\", \"host_neighbourhood\", \"host_since\", \n",
    "    \"host_location\",\"host_picture_url\",\"host_about\", \"neighbourhood\", \n",
    "    \"neighbourhood_cleansed\", \"calendar_last_scraped\",\"name\",\"description\", \n",
    "    \"neighborhood_overview\", \"host_about\"]\n",
    "\n",
    "# should we also drop host_response_time, host_response_rate, and host_acceptance_rate ?\n",
    "# too much missing values and hard to interpolate\n",
    "\n",
    "\n",
    "df = df.drop(columns=dropping_column)"
   ]
  },
  {
   "cell_type": "code",
   "execution_count": 197,
   "id": "4bb87ef7",
   "metadata": {},
   "outputs": [
    {
     "data": {
      "text/plain": [
       "Index(['host_response_time', 'host_response_rate', 'host_acceptance_rate',\n",
       "       'host_is_superhost', 'host_listings_count', 'host_total_listings_count',\n",
       "       'host_verifications', 'host_has_profile_pic', 'host_identity_verified',\n",
       "       'latitude', 'longitude', 'property_type', 'room_type', 'accommodates',\n",
       "       'bathrooms_text', 'bedrooms', 'beds', 'amenities', 'price',\n",
       "       'minimum_nights', 'maximum_nights', 'minimum_minimum_nights',\n",
       "       'maximum_minimum_nights', 'minimum_maximum_nights',\n",
       "       'maximum_maximum_nights', 'minimum_nights_avg_ntm',\n",
       "       'maximum_nights_avg_ntm', 'has_availability', 'availability_30',\n",
       "       'availability_60', 'availability_90', 'availability_365',\n",
       "       'number_of_reviews', 'number_of_reviews_ltm', 'number_of_reviews_l30d',\n",
       "       'review_scores_rating', 'review_scores_accuracy',\n",
       "       'review_scores_cleanliness', 'review_scores_checkin',\n",
       "       'review_scores_communication', 'review_scores_location',\n",
       "       'review_scores_value', 'calculated_host_listings_count',\n",
       "       'calculated_host_listings_count_entire_homes',\n",
       "       'calculated_host_listings_count_private_rooms',\n",
       "       'calculated_host_listings_count_shared_rooms', 'reviews_per_month'],\n",
       "      dtype='object')"
      ]
     },
     "execution_count": 197,
     "metadata": {},
     "output_type": "execute_result"
    }
   ],
   "source": [
    "df.columns"
   ]
  },
  {
   "cell_type": "code",
   "execution_count": 199,
   "id": "46e0db38",
   "metadata": {},
   "outputs": [
    {
     "name": "stdout",
     "output_type": "stream",
     "text": [
      "<class 'pandas.core.frame.DataFrame'>\n",
      "Index: 14853 entries, 0 to 15083\n",
      "Data columns (total 47 columns):\n",
      " #   Column                                        Non-Null Count  Dtype  \n",
      "---  ------                                        --------------  -----  \n",
      " 0   host_response_time                            8580 non-null   object \n",
      " 1   host_response_rate                            8580 non-null   object \n",
      " 2   host_acceptance_rate                          8823 non-null   object \n",
      " 3   host_is_superhost                             14853 non-null  object \n",
      " 4   host_listings_count                           14853 non-null  float64\n",
      " 5   host_total_listings_count                     14853 non-null  float64\n",
      " 6   host_verifications                            14853 non-null  object \n",
      " 7   host_has_profile_pic                          14853 non-null  object \n",
      " 8   host_identity_verified                        14853 non-null  object \n",
      " 9   latitude                                      14853 non-null  float64\n",
      " 10  longitude                                     14853 non-null  float64\n",
      " 11  property_type                                 14853 non-null  object \n",
      " 12  room_type                                     14853 non-null  object \n",
      " 13  accommodates                                  14853 non-null  int64  \n",
      " 14  bathrooms_text                                14853 non-null  object \n",
      " 15  bedrooms                                      13738 non-null  float64\n",
      " 16  beds                                          14853 non-null  float64\n",
      " 17  amenities                                     14853 non-null  object \n",
      " 18  price                                         14853 non-null  object \n",
      " 19  minimum_nights                                14853 non-null  int64  \n",
      " 20  maximum_nights                                14853 non-null  int64  \n",
      " 21  minimum_minimum_nights                        14853 non-null  int64  \n",
      " 22  maximum_minimum_nights                        14853 non-null  int64  \n",
      " 23  minimum_maximum_nights                        14853 non-null  int64  \n",
      " 24  maximum_maximum_nights                        14853 non-null  int64  \n",
      " 25  minimum_nights_avg_ntm                        14853 non-null  float64\n",
      " 26  maximum_nights_avg_ntm                        14853 non-null  float64\n",
      " 27  has_availability                              14853 non-null  object \n",
      " 28  availability_30                               14853 non-null  int64  \n",
      " 29  availability_60                               14853 non-null  int64  \n",
      " 30  availability_90                               14853 non-null  int64  \n",
      " 31  availability_365                              14853 non-null  int64  \n",
      " 32  number_of_reviews                             14853 non-null  int64  \n",
      " 33  number_of_reviews_ltm                         14853 non-null  int64  \n",
      " 34  number_of_reviews_l30d                        14853 non-null  int64  \n",
      " 35  review_scores_rating                          11529 non-null  float64\n",
      " 36  review_scores_accuracy                        11356 non-null  float64\n",
      " 37  review_scores_cleanliness                     11358 non-null  float64\n",
      " 38  review_scores_checkin                         11355 non-null  float64\n",
      " 39  review_scores_communication                   11355 non-null  float64\n",
      " 40  review_scores_location                        11354 non-null  float64\n",
      " 41  review_scores_value                           11355 non-null  float64\n",
      " 42  calculated_host_listings_count                14853 non-null  int64  \n",
      " 43  calculated_host_listings_count_entire_homes   14853 non-null  int64  \n",
      " 44  calculated_host_listings_count_private_rooms  14853 non-null  int64  \n",
      " 45  calculated_host_listings_count_shared_rooms   14853 non-null  int64  \n",
      " 46  reviews_per_month                             11529 non-null  float64\n",
      "dtypes: float64(16), int64(18), object(13)\n",
      "memory usage: 5.4+ MB\n"
     ]
    }
   ],
   "source": [
    "df.info()"
   ]
  },
  {
   "cell_type": "code",
   "execution_count": 218,
   "id": "69b80a43",
   "metadata": {},
   "outputs": [
    {
     "name": "stdout",
     "output_type": "stream",
     "text": [
      "                             review_scores_rating  review_scores_accuracy  \\\n",
      "review_scores_rating                     1.000000                0.806522   \n",
      "review_scores_accuracy                   0.806522                1.000000   \n",
      "review_scores_cleanliness                0.773584                0.707619   \n",
      "review_scores_checkin                    0.657450                0.679329   \n",
      "review_scores_communication              0.737479                0.721441   \n",
      "review_scores_location                   0.596331                0.601113   \n",
      "review_scores_value                      0.822266                0.764890   \n",
      "\n",
      "                             review_scores_cleanliness  review_scores_checkin  \\\n",
      "review_scores_rating                          0.773584               0.657450   \n",
      "review_scores_accuracy                        0.707619               0.679329   \n",
      "review_scores_cleanliness                     1.000000               0.574734   \n",
      "review_scores_checkin                         0.574734               1.000000   \n",
      "review_scores_communication                   0.589094               0.737307   \n",
      "review_scores_location                        0.482776               0.542196   \n",
      "review_scores_value                           0.683849               0.636042   \n",
      "\n",
      "                             review_scores_communication  \\\n",
      "review_scores_rating                            0.737479   \n",
      "review_scores_accuracy                          0.721441   \n",
      "review_scores_cleanliness                       0.589094   \n",
      "review_scores_checkin                           0.737307   \n",
      "review_scores_communication                     1.000000   \n",
      "review_scores_location                          0.573591   \n",
      "review_scores_value                             0.705064   \n",
      "\n",
      "                             review_scores_location  review_scores_value  \n",
      "review_scores_rating                       0.596331             0.822266  \n",
      "review_scores_accuracy                     0.601113             0.764890  \n",
      "review_scores_cleanliness                  0.482776             0.683849  \n",
      "review_scores_checkin                      0.542196             0.636042  \n",
      "review_scores_communication                0.573591             0.705064  \n",
      "review_scores_location                     1.000000             0.617134  \n",
      "review_scores_value                        0.617134             1.000000  \n"
     ]
    }
   ],
   "source": [
    "# examine similar columns\n",
    "\n",
    "print(df['host_listings_count'].corr(df['calculated_host_listings_count']))\n",
    "\n",
    "columns = ['calculated_host_listings_count', 'calculated_host_listings_count_entire_homes', 'calculated_host_listings_count_private_rooms', 'calculated_host_listings_count_shared_rooms']\n",
    "print(df[columns].corr())\n",
    "\n",
    "columns = ['review_scores_rating', 'review_scores_accuracy', 'review_scores_cleanliness', \n",
    "           'review_scores_checkin', 'review_scores_communication', 'review_scores_location', 'review_scores_value']\n",
    "\n",
    "# as host_listings_count is highly correlated to host_total_listings_count \n",
    "# and calculated_host_listings_count_entire_homes is too similar to calculated_host_listings_count\n",
    "# let's drop 'calculated_host_listings_count' and 'calculated_host_listings_count'\n",
    "\n",
    "duplicated_columns = ['host_listings_count', 'calculated_host_listings_count']\n",
    "\n",
    "\n",
    "\n",
    "df = df.drop(columns=duplicated_columns)"
   ]
  },
  {
   "cell_type": "code",
   "execution_count": 147,
   "id": "c7810dc8",
   "metadata": {},
   "outputs": [],
   "source": [
    "# handle price, host_response_rate, and host_acceptance_rate\n",
    "\n",
    "df['price'] = df['price'].apply(lambda x: x[1:].replace(',',\"\")).astype(np.float32)\n",
    "df['host_response_rate'] = df['host_response_rate'].apply(lambda x: x if pd.isna(x) else x[:-1]).astype(np.float32)\n",
    "df['host_acceptance_rate'] = df['host_acceptance_rate'].apply(lambda x: x if pd.isna(x) else x[:-1]).astype(np.float32)"
   ]
  },
  {
   "cell_type": "code",
   "execution_count": 214,
   "id": "abbe8103",
   "metadata": {},
   "outputs": [
    {
     "name": "stdout",
     "output_type": "stream",
     "text": [
      "<class 'pandas.core.frame.DataFrame'>\n",
      "Index: 14853 entries, 0 to 15083\n",
      "Data columns (total 45 columns):\n",
      " #   Column                                        Non-Null Count  Dtype  \n",
      "---  ------                                        --------------  -----  \n",
      " 0   host_response_time                            8580 non-null   object \n",
      " 1   host_response_rate                            8580 non-null   object \n",
      " 2   host_acceptance_rate                          8823 non-null   object \n",
      " 3   host_is_superhost                             14853 non-null  object \n",
      " 4   host_total_listings_count                     14853 non-null  float64\n",
      " 5   host_verifications                            14853 non-null  object \n",
      " 6   host_has_profile_pic                          14853 non-null  object \n",
      " 7   host_identity_verified                        14853 non-null  object \n",
      " 8   latitude                                      14853 non-null  float64\n",
      " 9   longitude                                     14853 non-null  float64\n",
      " 10  property_type                                 14853 non-null  object \n",
      " 11  room_type                                     14853 non-null  object \n",
      " 12  accommodates                                  14853 non-null  int64  \n",
      " 13  bathrooms_text                                14853 non-null  object \n",
      " 14  bedrooms                                      13738 non-null  float64\n",
      " 15  beds                                          14853 non-null  float64\n",
      " 16  amenities                                     14853 non-null  object \n",
      " 17  price                                         14853 non-null  object \n",
      " 18  minimum_nights                                14853 non-null  int64  \n",
      " 19  maximum_nights                                14853 non-null  int64  \n",
      " 20  minimum_minimum_nights                        14853 non-null  int64  \n",
      " 21  maximum_minimum_nights                        14853 non-null  int64  \n",
      " 22  minimum_maximum_nights                        14853 non-null  int64  \n",
      " 23  maximum_maximum_nights                        14853 non-null  int64  \n",
      " 24  minimum_nights_avg_ntm                        14853 non-null  float64\n",
      " 25  maximum_nights_avg_ntm                        14853 non-null  float64\n",
      " 26  has_availability                              14853 non-null  object \n",
      " 27  availability_30                               14853 non-null  int64  \n",
      " 28  availability_60                               14853 non-null  int64  \n",
      " 29  availability_90                               14853 non-null  int64  \n",
      " 30  availability_365                              14853 non-null  int64  \n",
      " 31  number_of_reviews                             14853 non-null  int64  \n",
      " 32  number_of_reviews_ltm                         14853 non-null  int64  \n",
      " 33  number_of_reviews_l30d                        14853 non-null  int64  \n",
      " 34  review_scores_rating                          11529 non-null  float64\n",
      " 35  review_scores_accuracy                        11356 non-null  float64\n",
      " 36  review_scores_cleanliness                     11358 non-null  float64\n",
      " 37  review_scores_checkin                         11355 non-null  float64\n",
      " 38  review_scores_communication                   11355 non-null  float64\n",
      " 39  review_scores_location                        11354 non-null  float64\n",
      " 40  review_scores_value                           11355 non-null  float64\n",
      " 41  calculated_host_listings_count_entire_homes   14853 non-null  int64  \n",
      " 42  calculated_host_listings_count_private_rooms  14853 non-null  int64  \n",
      " 43  calculated_host_listings_count_shared_rooms   14853 non-null  int64  \n",
      " 44  reviews_per_month                             11529 non-null  float64\n",
      "dtypes: float64(15), int64(17), object(13)\n",
      "memory usage: 5.2+ MB\n"
     ]
    }
   ],
   "source": [
    "df.info()"
   ]
  },
  {
   "cell_type": "code",
   "execution_count": 158,
   "id": "0de4a5b6",
   "metadata": {},
   "outputs": [
    {
     "data": {
      "text/plain": [
       "<Axes: ylabel='Frequency'>"
      ]
     },
     "execution_count": 158,
     "metadata": {},
     "output_type": "execute_result"
    },
    {
     "data": {
      "image/png": "[encoded data removed]",
      "text/plain": [
       "<Figure size 640x480 with 1 Axes>"
      ]
     },
     "metadata": {},
     "output_type": "display_data"
    }
   ],
   "source": [
    "columns = ['review_scores_rating', 'review_scores_accuracy', 'review_scores_cleanliness', 'review_scores_checkin', 'review_scores_communication', 'review_scores_value']\n",
    "\n",
    "df[columns].plot.hist()\n",
    "\n",
    "## can we use GML is do the oversampling ?\n",
    "## https://towardsdatascience.com/imbalanced-data-oversampling-using-gaussian-mixture-models-dfb5b8dd5825\n",
    "## can we use PCA or other technique to reduce the dimension ? \n",
    "## can we use other clustering technique to get other insight ?"
   ]
  },
  {
   "cell_type": "code",
   "execution_count": 167,
   "id": "9b18fee8",
   "metadata": {},
   "outputs": [],
   "source": [
    "from sklearn.preprocessing import OneHotEncoder\n",
    "from sklearn.impute import KNNImputer\n",
    "from sklearn.preprocessing import OrdinalEncoder, StandardScaler\n",
    "\n",
    "knn_imputer = KNNImputer()\n",
    "ohe = OneHotEncoder(handle_unknown=\"ignore\", sparse_output=False)\n",
    "test = ohe.fit_transform(df.select_dtypes(include='object'))\n",
    "\n",
    "#df_processed = knn_imputer.fit_transform(df)"
   ]
  },
  {
   "cell_type": "code",
   "execution_count": 170,
   "id": "9c48eb94",
   "metadata": {},
   "outputs": [
    {
     "data": {
      "text/plain": [
       "Index(['host_response_time', 'host_is_superhost', 'host_verifications',\n",
       "       'host_has_profile_pic', 'host_identity_verified', 'property_type',\n",
       "       'room_type', 'bathrooms_text', 'amenities', 'has_availability'],\n",
       "      dtype='object')"
      ]
     },
     "execution_count": 170,
     "metadata": {},
     "output_type": "execute_result"
    }
   ],
   "source": [
    "df.select_dtypes(include='object').columns"
   ]
  },
  {
   "cell_type": "code",
   "execution_count": 172,
   "id": "83dd0aa3",
   "metadata": {},
   "outputs": [
    {
     "data": {
      "text/plain": [
       "(14853, 10)"
      ]
     },
     "execution_count": 172,
     "metadata": {},
     "output_type": "execute_result"
    }
   ],
   "source": [
    "df.select_dtypes(include='object').shape"
   ]
  },
  {
   "cell_type": "code",
   "execution_count": 179,
   "id": "cb455a04",
   "metadata": {},
   "outputs": [
    {
     "name": "stdout",
     "output_type": "stream",
     "text": [
      "ele ::  host_response_time\n",
      "5\n",
      "ele ::  host_is_superhost\n",
      "2\n",
      "ele ::  host_verifications\n",
      "344\n",
      "ele ::  host_has_profile_pic\n",
      "2\n",
      "ele ::  host_identity_verified\n",
      "2\n",
      "ele ::  property_type\n",
      "59\n",
      "ele ::  room_type\n",
      "4\n",
      "ele ::  bathrooms_text\n",
      "26\n",
      "ele ::  amenities\n",
      "13745\n",
      "ele ::  has_availability\n",
      "2\n"
     ]
    }
   ],
   "source": [
    "for ele in df.select_dtypes(include='object').columns:\n",
    "    test = ohe.fit_transform(df[ele].values.reshape(-1, 1))\n",
    "    print('ele :: ', ele)\n",
    "    print(test.shape[1])"
   ]
  },
  {
   "cell_type": "code",
   "execution_count": 183,
   "id": "d2abd1fb",
   "metadata": {},
   "outputs": [
    {
     "data": {
      "text/plain": [
       "dtype('O')"
      ]
     },
     "execution_count": 183,
     "metadata": {},
     "output_type": "execute_result"
    }
   ],
   "source": [
    "df['amenities'].dtype"
   ]
  }
 ],
 "metadata": {
  "kernelspec": {
   "display_name": "Python 3 (ipykernel)",
   "language": "python",
   "name": "python3"
  },
  "language_info": {
   "codemirror_mode": {
    "name": "ipython",
    "version": 3
   },
   "file_extension": ".py",
   "mimetype": "text/x-python",
   "name": "python",
   "nbconvert_exporter": "python",
   "pygments_lexer": "ipython3",
   "version": "3.11.5"
  }
 },
 "nbformat": 4,
 "nbformat_minor": 5
}
